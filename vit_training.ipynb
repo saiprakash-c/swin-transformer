{
  "cells": [
    {
      "cell_type": "markdown",
      "metadata": {},
      "source": [
        "# Task 1: Import Libraries"
      ]
    },
    {
      "cell_type": "code",
      "execution_count": 18,
      "metadata": {},
      "outputs": [],
      "source": [
        "from PIL import Image\n",
        "from datasets import load_dataset\n",
        "from collections import Counter\n",
        "import matplotlib.pyplot as plt \n",
        "import seaborn as sns\n",
        "from huggingface import ViTImageProcessor, ViTForImageClassification, TrainingArguments, Trainer\n",
        "from torchvision import transforms\n",
        "import sklearn\n",
        "import numpy as np \n",
        "import torch\n",
        "from datetime import datetime"
      ]
    },
    {
      "cell_type": "markdown",
      "metadata": {},
      "source": [
        "# Task 2: Load the Dataset"
      ]
    },
    {
      "cell_type": "code",
      "execution_count": 19,
      "metadata": {},
      "outputs": [
        {
          "name": "stderr",
          "output_type": "stream",
          "text": [
            "/Users/saip/Library/Python/3.9/lib/python/site-packages/datasets/load.py:1491: FutureWarning: The repository for mnist contains custom code which must be executed to correctly load the dataset. You can inspect the repository content at https://hf.co/datasets/mnist\n",
            "You can avoid this message in future by passing the argument `trust_remote_code=True`.\n",
            "Passing `trust_remote_code=True` will be mandatory to load this dataset from the next major release of `datasets`.\n",
            "  warnings.warn(\n"
          ]
        }
      ],
      "source": [
        "# download the dataset\n",
        "load_dataset('mnist',cache_dir='mnist_dataset')\n",
        "\n",
        "path = 'mnist_dataset/'\n",
        "train_validation_ds = load_dataset(path=path,split='train[:1000]')\n",
        "test_ds = load_dataset(path=path,split='test[:100]')\n",
        "\n",
        "splits = train_validation_ds.train_test_split(test_size=0.1)\n",
        "train_ds = splits['train']\n",
        "validation_ds = splits['test']"
      ]
    },
    {
      "cell_type": "markdown",
      "metadata": {},
      "source": [
        "# Task 3: Visualize the Dataset"
      ]
    },
    {
      "cell_type": "code",
      "execution_count": 20,
      "metadata": {},
      "outputs": [
        {
          "data": {
            "image/jpeg": "[encoded data removed]",
            "image/png": "[encoded data removed]",
            "text/plain": [
              "<PIL.PngImagePlugin.PngImageFile image mode=L size=28x28>"
            ]
          },
          "execution_count": 20,
          "metadata": {},
          "output_type": "execute_result"
        }
      ],
      "source": [
        "train_ds['image'][449]"
      ]
    },
    {
      "cell_type": "code",
      "execution_count": 21,
      "metadata": {},
      "outputs": [
        {
          "data": {
            "text/plain": [
              "Text(0, 0.5, 'Frequency')"
            ]
          },
          "execution_count": 21,
          "metadata": {},
          "output_type": "execute_result"
        },
        {
          "data": {
            "image/png": "[encoded data removed]",
            "text/plain": [
              "<Figure size 640x480 with 1 Axes>"
            ]
          },
          "metadata": {},
          "output_type": "display_data"
        }
      ],
      "source": [
        "train_labels = Counter(train_ds['label'])\n",
        "plt.clf()\n",
        "plt.bar(train_labels.keys(),train_labels.values())\n",
        "plt.title('Training dataset')\n",
        "plt.xlabel('Label')\n",
        "plt.ylabel('Frequency')\n",
        "\n",
        "val_labels = Counter(validation_ds['label'])\n",
        "plt.clf()\n",
        "plt.bar(val_labels.keys(),val_labels.values())\n",
        "plt.title('Validation dataset')\n",
        "plt.xlabel('Label')\n",
        "plt.ylabel('Frequency')"
      ]
    },
    {
      "cell_type": "markdown",
      "metadata": {},
      "source": [
        "# Task 4: Create a Mapping of Class Names to Index"
      ]
    },
    {
      "cell_type": "code",
      "execution_count": 22,
      "metadata": {},
      "outputs": [],
      "source": [
        "id2label = {id : label for id,label in enumerate(train_ds.features['label'].names)}\n",
        "label2id = {t[1] : t[0] for t in id2label.items()}\n",
        "num_labels = len(id2label)"
      ]
    },
    {
      "cell_type": "markdown",
      "metadata": {},
      "source": [
        "# Task 5: Load the Preprocessor for the Dataset"
      ]
    },
    {
      "cell_type": "code",
      "execution_count": 23,
      "metadata": {},
      "outputs": [],
      "source": [
        "PRETRAINED_MODEL_NAME = 'google/vit-base-patch16-224'\n",
        "processor = ViTImageProcessor.from_pretrained(PRETRAINED_MODEL_NAME)"
      ]
    },
    {
      "cell_type": "markdown",
      "metadata": {},
      "source": [
        "# Task 6: Define Data Augmentations"
      ]
    },
    {
      "cell_type": "code",
      "execution_count": 24,
      "metadata": {},
      "outputs": [],
      "source": [
        "image_mean, image_std = processor.image_mean, processor.image_std\n",
        "height, width = processor.size['height'], processor.size['width']\n",
        "\n",
        "normalize = transforms.Normalize(mean=image_mean,std=image_std)\n",
        "\n",
        "_train_transforms = transforms.Compose([\n",
        "                                    # transforms.RandomAffine(degrees=10,translate=(0.1,0.1),scale=(0.9,1.1)),\n",
        "                                    transforms.Resize((height,width)),\n",
        "                                    transforms.ToTensor(),\n",
        "                                    normalize])\n",
        "\n",
        "_validation_transforms = transforms.Compose([\n",
        "                                    transforms.Resize((height,width)),\n",
        "                                    transforms.ToTensor(),\n",
        "                                    normalize])"
      ]
    },
    {
      "cell_type": "markdown",
      "metadata": {},
      "source": [
        "# Task 7:  Implement Data Transformation"
      ]
    },
    {
      "cell_type": "code",
      "execution_count": 25,
      "metadata": {},
      "outputs": [],
      "source": [
        "def train_transforms(batch):\n",
        "    rgb_images = [img.convert('RGB') for img in batch['image']]\n",
        "    batch['pixel_values'] = [_train_transforms(img) for img in rgb_images]\n",
        "    return batch\n",
        "\n",
        "def validation_transforms(batch):\n",
        "    rgb_images = [img.convert('RGB') for img in batch['image']]\n",
        "    batch['pixel_values'] = [_validation_transforms(img) for img in rgb_images]\n",
        "    return batch\n",
        "\n",
        "train_ds.set_transform(train_transforms)\n",
        "validation_ds.set_transform(validation_transforms)\n",
        "test_ds.set_transform(validation_transforms)"
      ]
    },
    {
      "cell_type": "markdown",
      "metadata": {},
      "source": [
        "# Task 8: Collate the Function for DataLoader"
      ]
    },
    {
      "cell_type": "code",
      "execution_count": 26,
      "metadata": {},
      "outputs": [],
      "source": [
        "def collate_fn(batch):\n",
        "    pixel_values = torch.stack([sample['pixel_values'] for sample in batch])\n",
        "    labels = torch.tensor([sample['label'] for sample in batch])\n",
        "    return {'pixel_values' : pixel_values, 'labels' : labels}"
      ]
    },
    {
      "cell_type": "markdown",
      "metadata": {},
      "source": [
        "# Task 9: Create a Model"
      ]
    },
    {
      "cell_type": "code",
      "execution_count": 27,
      "metadata": {},
      "outputs": [
        {
          "name": "stderr",
          "output_type": "stream",
          "text": [
            "Some weights of ViTForImageClassification were not initialized from the model checkpoint at google/vit-base-patch16-224 and are newly initialized because the shapes did not match:\n",
            "- classifier.bias: found shape torch.Size([1000]) in the checkpoint and torch.Size([10]) in the model instantiated\n",
            "- classifier.weight: found shape torch.Size([1000, 768]) in the checkpoint and torch.Size([10, 768]) in the model instantiated\n",
            "You should probably TRAIN this model on a down-stream task to be able to use it for predictions and inference.\n"
          ]
        }
      ],
      "source": [
        "model = ViTForImageClassification.from_pretrained(pretrained_model_name_or_path=PRETRAINED_MODEL_NAME, \n",
        "                                                num_labels = num_labels,\n",
        "                                                id2label = id2label,\n",
        "                                                label2id = label2id,\n",
        "                                                ignore_mismatched_sizes=True)"
      ]
    },
    {
      "cell_type": "markdown",
      "metadata": {},
      "source": [
        "# Task 10: Define a Metric for the Model"
      ]
    },
    {
      "cell_type": "code",
      "execution_count": 28,
      "metadata": {},
      "outputs": [],
      "source": [
        "def compute_metrics(eval_pred):\n",
        "    logits, labels = eval_pred\n",
        "    predictions = np.argmax(logits, axis=-1)\n",
        "    f1 = sklearn.metrics.f1_score(labels, predictions, average='macro') # just average the metrics\n",
        "    return {'f1' : f1}"
      ]
    },
    {
      "cell_type": "markdown",
      "metadata": {},
      "source": [
        "# Task 11: Set Up Trainer Arguments"
      ]
    },
    {
      "cell_type": "code",
      "execution_count": 29,
      "metadata": {},
      "outputs": [
        {
          "name": "stderr",
          "output_type": "stream",
          "text": [
            "/Users/saip/Library/Python/3.9/lib/python/site-packages/transformers/training_args.py:1474: FutureWarning: `evaluation_strategy` is deprecated and will be removed in version 4.46 of 🤗 Transformers. Use `eval_strategy` instead\n",
            "  warnings.warn(\n"
          ]
        }
      ],
      "source": [
        "output_dir ='./trained_model'\n",
        "# create unique directory name for tensorboard logs\n",
        "tensorboard_dir = f'./logs/{datetime.now().strftime(\"%Y-%m-%d_%H-%M-%S\")}'\n",
        "training_args = TrainingArguments(output_dir=output_dir,\n",
        "                                                 num_train_epochs=20,\n",
        "                                                 learning_rate=0.00001,\n",
        "                                                 per_device_train_batch_size=16,\n",
        "                                                 per_device_eval_batch_size=64,\n",
        "                                                 logging_dir=tensorboard_dir,\n",
        "                                                 logging_strategy='epoch',\n",
        "                                                 evaluation_strategy='epoch',\n",
        "                                                 remove_unused_columns=False,\n",
        "                                                 load_best_model_at_end=True,\n",
        "                                                 save_strategy='epoch',\n",
        "                                                 metric_for_best_model=\"eval_loss\",\n",
        "                                                greater_is_better=False,\n",
        "                                                warmup_ratio=0.1\n",
        "                                                 )"
      ]
    },
    {
      "cell_type": "markdown",
      "metadata": {},
      "source": [
        "# Task 12: Create a Trainer Object"
      ]
    },
    {
      "cell_type": "code",
      "execution_count": 30,
      "metadata": {},
      "outputs": [],
      "source": [
        "class MNISTTrainer(Trainer):\n",
        "    # write a custom collate function\n",
        "    def __init__(self, *args, **kwargs):\n",
        "        super().__init__(*args, **kwargs)\n",
        "        self.data_collator = collate_fn\n",
        "\n",
        "trainer = MNISTTrainer(model=model,\n",
        "                  args=training_args,\n",
        "                  compute_metrics=compute_metrics,\n",
        "                  train_dataset=train_ds,\n",
        "                  eval_dataset=validation_ds,\n",
        "                  )   "
      ]
    },
    {
      "cell_type": "markdown",
      "metadata": {},
      "source": [
        "# Task 13: Evaluate the Model Before Training"
      ]
    },
    {
      "cell_type": "code",
      "execution_count": 31,
      "metadata": {},
      "outputs": [
        {
          "name": "stderr",
          "output_type": "stream",
          "text": [
            "100%|██████████| 2/2 [00:00<00:00,  2.19it/s]\n"
          ]
        },
        {
          "data": {
            "text/plain": [
              "{'eval_loss': 2.368654251098633,\n",
              " 'eval_f1': 0.061010101010101,\n",
              " 'eval_runtime': 3.6464,\n",
              " 'eval_samples_per_second': 27.424,\n",
              " 'eval_steps_per_second': 0.548}"
            ]
          },
          "execution_count": 31,
          "metadata": {},
          "output_type": "execute_result"
        }
      ],
      "source": [
        "trainer.evaluate()"
      ]
    },
    {
      "cell_type": "markdown",
      "metadata": {},
      "source": [
        "# Task 14: Train the Model"
      ]
    },
    {
      "cell_type": "code",
      "execution_count": 32,
      "metadata": {},
      "outputs": [
        {
          "name": "stderr",
          "output_type": "stream",
          "text": [
            "  5%|▌         | 57/1140 [01:14<19:06,  1.06s/it]"
          ]
        },
        {
          "name": "stdout",
          "output_type": "stream",
          "text": [
            "{'loss': 2.1891, 'grad_norm': 14.846182823181152, 'learning_rate': 5e-06, 'epoch': 1.0}\n"
          ]
        },
        {
          "name": "stderr",
          "output_type": "stream",
          "text": [
            "\n",
            "  5%|▌         | 57/1140 [01:17<19:06,  1.06s/it]"
          ]
        },
        {
          "name": "stdout",
          "output_type": "stream",
          "text": [
            "{'eval_loss': 1.8956528902053833, 'eval_f1': 0.4889426173016636, 'eval_runtime': 2.655, 'eval_samples_per_second': 37.664, 'eval_steps_per_second': 0.753, 'epoch': 1.0}\n"
          ]
        },
        {
          "name": "stderr",
          "output_type": "stream",
          "text": [
            " 10%|█         | 114/1140 [02:56<40:58,  2.40s/it]"
          ]
        },
        {
          "name": "stdout",
          "output_type": "stream",
          "text": [
            "{'loss': 1.3658, 'grad_norm': 12.204806327819824, 'learning_rate': 1e-05, 'epoch': 2.0}\n"
          ]
        },
        {
          "name": "stderr",
          "output_type": "stream",
          "text": [
            "                                                  \n",
            " 10%|█         | 114/1140 [03:02<40:58,  2.40s/it]"
          ]
        },
        {
          "name": "stdout",
          "output_type": "stream",
          "text": [
            "{'eval_loss': 0.9139096140861511, 'eval_f1': 0.8423279606641237, 'eval_runtime': 5.6535, 'eval_samples_per_second': 17.688, 'eval_steps_per_second': 0.354, 'epoch': 2.0}\n"
          ]
        },
        {
          "name": "stderr",
          "output_type": "stream",
          "text": [
            " 15%|█▌        | 171/1140 [04:56<24:23,  1.51s/it]  "
          ]
        },
        {
          "name": "stdout",
          "output_type": "stream",
          "text": [
            "{'loss': 0.4966, 'grad_norm': 4.8677287101745605, 'learning_rate': 9.444444444444445e-06, 'epoch': 3.0}\n"
          ]
        },
        {
          "name": "stderr",
          "output_type": "stream",
          "text": [
            "\n",
            " 15%|█▌        | 171/1140 [04:59<24:23,  1.51s/it]"
          ]
        },
        {
          "name": "stdout",
          "output_type": "stream",
          "text": [
            "{'eval_loss': 0.3583294749259949, 'eval_f1': 0.9318143553848225, 'eval_runtime': 3.8044, 'eval_samples_per_second': 26.285, 'eval_steps_per_second': 0.526, 'epoch': 3.0}\n"
          ]
        },
        {
          "name": "stderr",
          "output_type": "stream",
          "text": [
            " 20%|██        | 228/1140 [06:57<31:52,  2.10s/it]"
          ]
        },
        {
          "name": "stdout",
          "output_type": "stream",
          "text": [
            "{'loss': 0.1752, 'grad_norm': 6.852542877197266, 'learning_rate': 8.888888888888888e-06, 'epoch': 4.0}\n"
          ]
        },
        {
          "name": "stderr",
          "output_type": "stream",
          "text": [
            "                                                  \n",
            " 20%|██        | 228/1140 [07:02<31:52,  2.10s/it]"
          ]
        },
        {
          "name": "stdout",
          "output_type": "stream",
          "text": [
            "{'eval_loss': 0.12476889789104462, 'eval_f1': 0.9814364876385337, 'eval_runtime': 4.5818, 'eval_samples_per_second': 21.825, 'eval_steps_per_second': 0.437, 'epoch': 4.0}\n"
          ]
        },
        {
          "name": "stderr",
          "output_type": "stream",
          "text": [
            " 25%|██▌       | 285/1140 [09:14<26:04,  1.83s/it]  "
          ]
        },
        {
          "name": "stdout",
          "output_type": "stream",
          "text": [
            "{'loss': 0.0727, 'grad_norm': 0.4434330463409424, 'learning_rate': 8.333333333333334e-06, 'epoch': 5.0}\n"
          ]
        },
        {
          "name": "stderr",
          "output_type": "stream",
          "text": [
            "                                                  \n",
            " 25%|██▌       | 285/1140 [09:19<26:04,  1.83s/it]"
          ]
        },
        {
          "name": "stdout",
          "output_type": "stream",
          "text": [
            "{'eval_loss': 0.0717741921544075, 'eval_f1': 1.0, 'eval_runtime': 4.907, 'eval_samples_per_second': 20.379, 'eval_steps_per_second': 0.408, 'epoch': 5.0}\n"
          ]
        },
        {
          "name": "stderr",
          "output_type": "stream",
          "text": [
            " 30%|███       | 342/1140 [11:31<27:53,  2.10s/it]"
          ]
        },
        {
          "name": "stdout",
          "output_type": "stream",
          "text": [
            "{'loss': 0.0273, 'grad_norm': 0.28406473994255066, 'learning_rate': 7.77777777777778e-06, 'epoch': 6.0}\n"
          ]
        },
        {
          "name": "stderr",
          "output_type": "stream",
          "text": [
            "                                                  \n",
            " 30%|███       | 342/1140 [11:36<27:53,  2.10s/it]"
          ]
        },
        {
          "name": "stdout",
          "output_type": "stream",
          "text": [
            "{'eval_loss': 0.03775007277727127, 'eval_f1': 1.0, 'eval_runtime': 4.871, 'eval_samples_per_second': 20.53, 'eval_steps_per_second': 0.411, 'epoch': 6.0}\n"
          ]
        },
        {
          "name": "stderr",
          "output_type": "stream",
          "text": [
            " 35%|███▌      | 399/1140 [13:59<27:44,  2.25s/it]"
          ]
        },
        {
          "name": "stdout",
          "output_type": "stream",
          "text": [
            "{'loss': 0.0122, 'grad_norm': 0.2636268436908722, 'learning_rate': 7.222222222222223e-06, 'epoch': 7.0}\n"
          ]
        },
        {
          "name": "stderr",
          "output_type": "stream",
          "text": [
            "                                                  \n",
            " 35%|███▌      | 399/1140 [14:04<27:44,  2.25s/it]"
          ]
        },
        {
          "name": "stdout",
          "output_type": "stream",
          "text": [
            "{'eval_loss': 0.028589317575097084, 'eval_f1': 0.9879598662207357, 'eval_runtime': 4.85, 'eval_samples_per_second': 20.619, 'eval_steps_per_second': 0.412, 'epoch': 7.0}\n"
          ]
        },
        {
          "name": "stderr",
          "output_type": "stream",
          "text": [
            " 40%|████      | 456/1140 [16:27<23:51,  2.09s/it]"
          ]
        },
        {
          "name": "stdout",
          "output_type": "stream",
          "text": [
            "{'loss': 0.0066, 'grad_norm': 0.20097118616104126, 'learning_rate': 6.666666666666667e-06, 'epoch': 8.0}\n"
          ]
        },
        {
          "name": "stderr",
          "output_type": "stream",
          "text": [
            "                                                  \n",
            " 40%|████      | 456/1140 [16:32<23:51,  2.09s/it]"
          ]
        },
        {
          "name": "stdout",
          "output_type": "stream",
          "text": [
            "{'eval_loss': 0.02147584594786167, 'eval_f1': 0.9879598662207357, 'eval_runtime': 4.6, 'eval_samples_per_second': 21.739, 'eval_steps_per_second': 0.435, 'epoch': 8.0}\n"
          ]
        },
        {
          "name": "stderr",
          "output_type": "stream",
          "text": [
            " 45%|████▌     | 513/1140 [18:45<18:22,  1.76s/it]"
          ]
        },
        {
          "name": "stdout",
          "output_type": "stream",
          "text": [
            "{'loss': 0.0045, 'grad_norm': 0.07710137218236923, 'learning_rate': 6.111111111111112e-06, 'epoch': 9.0}\n"
          ]
        },
        {
          "name": "stderr",
          "output_type": "stream",
          "text": [
            "                                                  \n",
            " 45%|████▌     | 513/1140 [18:49<18:22,  1.76s/it]"
          ]
        },
        {
          "name": "stdout",
          "output_type": "stream",
          "text": [
            "{'eval_loss': 0.018611174076795578, 'eval_f1': 0.9879598662207357, 'eval_runtime': 4.3657, 'eval_samples_per_second': 22.906, 'eval_steps_per_second': 0.458, 'epoch': 9.0}\n"
          ]
        },
        {
          "name": "stderr",
          "output_type": "stream",
          "text": [
            " 50%|█████     | 570/1140 [21:06<20:37,  2.17s/it]"
          ]
        },
        {
          "name": "stdout",
          "output_type": "stream",
          "text": [
            "{'loss': 0.0036, 'grad_norm': 0.1254049688577652, 'learning_rate': 5.555555555555557e-06, 'epoch': 10.0}\n"
          ]
        },
        {
          "name": "stderr",
          "output_type": "stream",
          "text": [
            "                                                  \n",
            " 50%|█████     | 570/1140 [21:11<20:37,  2.17s/it]"
          ]
        },
        {
          "name": "stdout",
          "output_type": "stream",
          "text": [
            "{'eval_loss': 0.016895567998290062, 'eval_f1': 0.9879598662207357, 'eval_runtime': 4.619, 'eval_samples_per_second': 21.65, 'eval_steps_per_second': 0.433, 'epoch': 10.0}\n"
          ]
        },
        {
          "name": "stderr",
          "output_type": "stream",
          "text": [
            " 55%|█████▌    | 627/1140 [23:34<15:52,  1.86s/it]"
          ]
        },
        {
          "name": "stdout",
          "output_type": "stream",
          "text": [
            "{'loss': 0.0031, 'grad_norm': 0.22337734699249268, 'learning_rate': 5e-06, 'epoch': 11.0}\n"
          ]
        },
        {
          "name": "stderr",
          "output_type": "stream",
          "text": [
            "                                                  \n",
            " 55%|█████▌    | 627/1140 [23:38<15:52,  1.86s/it]"
          ]
        },
        {
          "name": "stdout",
          "output_type": "stream",
          "text": [
            "{'eval_loss': 0.016244541853666306, 'eval_f1': 0.9879598662207357, 'eval_runtime': 4.4069, 'eval_samples_per_second': 22.692, 'eval_steps_per_second': 0.454, 'epoch': 11.0}\n"
          ]
        },
        {
          "name": "stderr",
          "output_type": "stream",
          "text": [
            " 60%|██████    | 684/1140 [26:01<21:00,  2.76s/it]"
          ]
        },
        {
          "name": "stdout",
          "output_type": "stream",
          "text": [
            "{'loss': 0.0027, 'grad_norm': 0.1756511926651001, 'learning_rate': 4.444444444444444e-06, 'epoch': 12.0}\n"
          ]
        },
        {
          "name": "stderr",
          "output_type": "stream",
          "text": [
            "                                                  \n",
            " 60%|██████    | 684/1140 [26:05<21:00,  2.76s/it]"
          ]
        },
        {
          "name": "stdout",
          "output_type": "stream",
          "text": [
            "{'eval_loss': 0.015648650005459785, 'eval_f1': 0.9879598662207357, 'eval_runtime': 4.7525, 'eval_samples_per_second': 21.042, 'eval_steps_per_second': 0.421, 'epoch': 12.0}\n"
          ]
        },
        {
          "name": "stderr",
          "output_type": "stream",
          "text": [
            " 65%|██████▌   | 741/1140 [28:40<13:41,  2.06s/it]"
          ]
        },
        {
          "name": "stdout",
          "output_type": "stream",
          "text": [
            "{'loss': 0.0024, 'grad_norm': 0.13555917143821716, 'learning_rate': 3.88888888888889e-06, 'epoch': 13.0}\n"
          ]
        },
        {
          "name": "stderr",
          "output_type": "stream",
          "text": [
            "                                                  \n",
            " 65%|██████▌   | 741/1140 [28:45<13:41,  2.06s/it]"
          ]
        },
        {
          "name": "stdout",
          "output_type": "stream",
          "text": [
            "{'eval_loss': 0.01482668612152338, 'eval_f1': 0.9879598662207357, 'eval_runtime': 5.1927, 'eval_samples_per_second': 19.258, 'eval_steps_per_second': 0.385, 'epoch': 13.0}\n"
          ]
        },
        {
          "name": "stderr",
          "output_type": "stream",
          "text": [
            " 70%|███████   | 798/1140 [31:23<12:57,  2.27s/it]"
          ]
        },
        {
          "name": "stdout",
          "output_type": "stream",
          "text": [
            "{'loss': 0.0022, 'grad_norm': 0.03623472899198532, 'learning_rate': 3.3333333333333333e-06, 'epoch': 14.0}\n"
          ]
        },
        {
          "name": "stderr",
          "output_type": "stream",
          "text": [
            "                                                  \n",
            " 70%|███████   | 798/1140 [31:29<12:57,  2.27s/it]"
          ]
        },
        {
          "name": "stdout",
          "output_type": "stream",
          "text": [
            "{'eval_loss': 0.014521930366754532, 'eval_f1': 0.9879598662207357, 'eval_runtime': 6.2096, 'eval_samples_per_second': 16.104, 'eval_steps_per_second': 0.322, 'epoch': 14.0}\n"
          ]
        },
        {
          "name": "stderr",
          "output_type": "stream",
          "text": [
            " 75%|███████▌  | 855/1140 [34:20<05:15,  1.11s/it]  "
          ]
        },
        {
          "name": "stdout",
          "output_type": "stream",
          "text": [
            "{'loss': 0.002, 'grad_norm': 0.08643201738595963, 'learning_rate': 2.7777777777777783e-06, 'epoch': 15.0}\n"
          ]
        },
        {
          "name": "stderr",
          "output_type": "stream",
          "text": [
            "                                                  \n",
            " 75%|███████▌  | 855/1140 [34:23<05:15,  1.11s/it]"
          ]
        },
        {
          "name": "stdout",
          "output_type": "stream",
          "text": [
            "{'eval_loss': 0.01371282059699297, 'eval_f1': 0.9879598662207357, 'eval_runtime': 2.6098, 'eval_samples_per_second': 38.317, 'eval_steps_per_second': 0.766, 'epoch': 15.0}\n"
          ]
        },
        {
          "name": "stderr",
          "output_type": "stream",
          "text": [
            " 80%|████████  | 912/1140 [37:03<08:50,  2.33s/it]"
          ]
        },
        {
          "name": "stdout",
          "output_type": "stream",
          "text": [
            "{'loss': 0.0019, 'grad_norm': 0.026679443195462227, 'learning_rate': 2.222222222222222e-06, 'epoch': 16.0}\n"
          ]
        },
        {
          "name": "stderr",
          "output_type": "stream",
          "text": [
            "                                                  \n",
            " 80%|████████  | 912/1140 [37:09<08:50,  2.33s/it]"
          ]
        },
        {
          "name": "stdout",
          "output_type": "stream",
          "text": [
            "{'eval_loss': 0.013448533602058887, 'eval_f1': 0.9879598662207357, 'eval_runtime': 6.11, 'eval_samples_per_second': 16.367, 'eval_steps_per_second': 0.327, 'epoch': 16.0}\n"
          ]
        },
        {
          "name": "stderr",
          "output_type": "stream",
          "text": [
            " 85%|████████▌ | 969/1140 [39:39<05:40,  1.99s/it]"
          ]
        },
        {
          "name": "stdout",
          "output_type": "stream",
          "text": [
            "{'loss': 0.0018, 'grad_norm': 0.04731046035885811, 'learning_rate': 1.6666666666666667e-06, 'epoch': 17.0}\n"
          ]
        },
        {
          "name": "stderr",
          "output_type": "stream",
          "text": [
            "                                                  \n",
            " 85%|████████▌ | 969/1140 [39:44<05:40,  1.99s/it]"
          ]
        },
        {
          "name": "stdout",
          "output_type": "stream",
          "text": [
            "{'eval_loss': 0.013340299017727375, 'eval_f1': 0.9879598662207357, 'eval_runtime': 4.7908, 'eval_samples_per_second': 20.873, 'eval_steps_per_second': 0.417, 'epoch': 17.0}\n"
          ]
        },
        {
          "name": "stderr",
          "output_type": "stream",
          "text": [
            " 90%|█████████ | 1026/1140 [42:02<03:20,  1.76s/it]"
          ]
        },
        {
          "name": "stdout",
          "output_type": "stream",
          "text": [
            "{'loss': 0.0017, 'grad_norm': 0.019874220713973045, 'learning_rate': 1.111111111111111e-06, 'epoch': 18.0}\n"
          ]
        },
        {
          "name": "stderr",
          "output_type": "stream",
          "text": [
            "                                                   \n",
            " 90%|█████████ | 1026/1140 [42:06<03:20,  1.76s/it]"
          ]
        },
        {
          "name": "stdout",
          "output_type": "stream",
          "text": [
            "{'eval_loss': 0.01337173581123352, 'eval_f1': 0.9879598662207357, 'eval_runtime': 4.6064, 'eval_samples_per_second': 21.709, 'eval_steps_per_second': 0.434, 'epoch': 18.0}\n"
          ]
        },
        {
          "name": "stderr",
          "output_type": "stream",
          "text": [
            " 95%|█████████▌| 1083/1140 [44:38<01:24,  1.48s/it]"
          ]
        },
        {
          "name": "stdout",
          "output_type": "stream",
          "text": [
            "{'loss': 0.0017, 'grad_norm': 0.022309044376015663, 'learning_rate': 5.555555555555555e-07, 'epoch': 19.0}\n"
          ]
        },
        {
          "name": "stderr",
          "output_type": "stream",
          "text": [
            "                                                   \n",
            " 95%|█████████▌| 1083/1140 [44:41<01:24,  1.48s/it]"
          ]
        },
        {
          "name": "stdout",
          "output_type": "stream",
          "text": [
            "{'eval_loss': 0.013301899656653404, 'eval_f1': 0.9879598662207357, 'eval_runtime': 3.5693, 'eval_samples_per_second': 28.017, 'eval_steps_per_second': 0.56, 'epoch': 19.0}\n"
          ]
        },
        {
          "name": "stderr",
          "output_type": "stream",
          "text": [
            "100%|██████████| 1140/1140 [46:36<00:00,  1.75s/it]"
          ]
        },
        {
          "name": "stdout",
          "output_type": "stream",
          "text": [
            "{'loss': 0.0017, 'grad_norm': 0.03687524050474167, 'learning_rate': 0.0, 'epoch': 20.0}\n"
          ]
        },
        {
          "name": "stderr",
          "output_type": "stream",
          "text": [
            "                                                   \n",
            "100%|██████████| 1140/1140 [46:40<00:00,  1.75s/it]"
          ]
        },
        {
          "name": "stdout",
          "output_type": "stream",
          "text": [
            "{'eval_loss': 0.013251620344817638, 'eval_f1': 0.9879598662207357, 'eval_runtime': 3.8862, 'eval_samples_per_second': 25.732, 'eval_steps_per_second': 0.515, 'epoch': 20.0}\n"
          ]
        },
        {
          "name": "stderr",
          "output_type": "stream",
          "text": [
            "100%|██████████| 1140/1140 [46:43<00:00,  2.46s/it]"
          ]
        },
        {
          "name": "stdout",
          "output_type": "stream",
          "text": [
            "{'train_runtime': 2803.2829, 'train_samples_per_second': 6.421, 'train_steps_per_second': 0.407, 'train_loss': 0.21872812718675846, 'epoch': 20.0}\n"
          ]
        },
        {
          "name": "stderr",
          "output_type": "stream",
          "text": [
            "\n"
          ]
        },
        {
          "data": {
            "text/plain": [
              "TrainOutput(global_step=1140, training_loss=0.21872812718675846, metrics={'train_runtime': 2803.2829, 'train_samples_per_second': 6.421, 'train_steps_per_second': 0.407, 'total_flos': 1.394955826274304e+18, 'train_loss': 0.21872812718675846, 'epoch': 20.0})"
            ]
          },
          "execution_count": 32,
          "metadata": {},
          "output_type": "execute_result"
        }
      ],
      "source": [
        "# # freeze all the layers except the last layer\n",
        "# for name, param in model.named_parameters():\n",
        "#     if 'classifier' not in name:\n",
        "#         param.requires_grad = False\n",
        "trainer.train()"
      ]
    },
    {
      "cell_type": "markdown",
      "metadata": {},
      "source": [
        "# Task 15: Visualize the Performance in TensorBoard"
      ]
    },
    {
      "cell_type": "code",
      "execution_count": 33,
      "metadata": {},
      "outputs": [
        {
          "name": "stdout",
          "output_type": "stream",
          "text": [
            "The tensorboard extension is already loaded. To reload it, use:\n",
            "  %reload_ext tensorboard\n"
          ]
        }
      ],
      "source": [
        "# visualize the training loss, learning rate and f1 score using tensorboard in vscode\n",
        "%load_ext tensorboard\n",
        "#!tensorboard --logdir './logs'"
      ]
    },
    {
      "cell_type": "markdown",
      "metadata": {},
      "source": [
        "# Task 16: Evaluate the Model"
      ]
    },
    {
      "cell_type": "code",
      "execution_count": 34,
      "metadata": {},
      "outputs": [
        {
          "name": "stderr",
          "output_type": "stream",
          "text": [
            "100%|██████████| 2/2 [00:01<00:00,  1.43it/s]\n"
          ]
        },
        {
          "data": {
            "text/plain": [
              "{'eval_loss': 0.013251620344817638,\n",
              " 'eval_f1': 0.9879598662207357,\n",
              " 'eval_runtime': 3.382,\n",
              " 'eval_samples_per_second': 29.568,\n",
              " 'eval_steps_per_second': 0.591,\n",
              " 'epoch': 20.0}"
            ]
          },
          "execution_count": 34,
          "metadata": {},
          "output_type": "execute_result"
        }
      ],
      "source": [
        "# clear the cache in ./trained_model\n",
        "!rm -r ./trained_model/*\n",
        "trainer.evaluate(validation_ds)"
      ]
    },
    {
      "cell_type": "markdown",
      "metadata": {},
      "source": [
        "# Task 17: Set Up the Confusion Matrix"
      ]
    },
    {
      "cell_type": "code",
      "execution_count": 35,
      "metadata": {},
      "outputs": [
        {
          "name": "stderr",
          "output_type": "stream",
          "text": [
            "100%|██████████| 2/2 [00:01<00:00,  1.37it/s]\n"
          ]
        },
        {
          "data": {
            "image/png": "[encoded data removed]",
            "text/plain": [
              "<Figure size 1000x700 with 2 Axes>"
            ]
          },
          "metadata": {},
          "output_type": "display_data"
        }
      ],
      "source": [
        "# setup the confusion matrix\n",
        "from sklearn.metrics import confusion_matrix\n",
        "import pandas as pd\n",
        "\n",
        "def plot_confusion_matrix(y_true, y_pred, class_names):\n",
        "    cm = confusion_matrix(y_true, y_pred)\n",
        "    cm = cm.astype('float') / cm.sum(axis=1)[:, np.newaxis]\n",
        "    df_cm = pd.DataFrame(cm, index=class_names, columns=class_names)\n",
        "    plt.figure(figsize=(10,7))\n",
        "    sns.heatmap(df_cm, annot=True, cmap='Blues')\n",
        "    plt.xlabel('Predicted labels')\n",
        "    plt.ylabel('True labels')\n",
        "    plt.show()\n",
        "\n",
        "# get the predictions\n",
        "predictions = trainer.predict(test_ds)\n",
        "y_true = predictions.label_ids\n",
        "y_pred = predictions.predictions.argmax(-1)\n",
        "plot_confusion_matrix(y_true, y_pred, id2label.values())"
      ]
    },
    {
      "cell_type": "markdown",
      "metadata": {},
      "source": [
        "# Task 18: Save the Model and Metrics"
      ]
    },
    {
      "cell_type": "code",
      "execution_count": 39,
      "metadata": {},
      "outputs": [],
      "source": [
        "# save the best model and metrics\n",
        "trainer.save_model(output_dir)\n",
        "trainer.save_metrics(output_dir, metrics=trainer.state.log_history[-1])\n",
        "trainer.state.save_to_json(f'{output_dir}/trainer_state.json')"
      ]
    },
    {
      "cell_type": "markdown",
      "metadata": {},
      "source": [
        "# Task 19: Push the model to huggingface"
      ]
    },
    {
      "cell_type": "code",
      "execution_count": 14,
      "metadata": {},
      "outputs": [
        {
          "name": "stdout",
          "output_type": "stream",
          "text": [
            "/Users/saip/Library/Python/3.9/lib/python/site-packages/urllib3/__init__.py:34: NotOpenSSLWarning: urllib3 v2 only supports OpenSSL 1.1.1+, currently the 'ssl' module is compiled with 'LibreSSL 2.8.3'. See: https://github.com/urllib3/urllib3/issues/3020\n",
            "  warnings.warn(\n",
            "The token has not been saved to the git credentials helper. Pass `add_to_git_credential=True` in this function directly or `--add-to-git-credential` if using via `huggingface-cli` if you want to set the git credential as well.\n",
            "Token is valid (permission: write).\n",
            "Your token has been saved to /Users/saip/.cache/huggingface/token\n",
            "Login successful\n",
            "/Users/saip/Library/Python/3.9/lib/python/site-packages/urllib3/__init__.py:34: NotOpenSSLWarning: urllib3 v2 only supports OpenSSL 1.1.1+, currently the 'ssl' module is compiled with 'LibreSSL 2.8.3'. See: https://github.com/urllib3/urllib3/issues/3020\n",
            "  warnings.warn(\n",
            "\u001b[90mgit version 2.39.3 (Apple Git-145)\u001b[0m\n",
            "\u001b[1m\u001b[31mLooks like you do not have git-lfs installed, please install. You can install from https://git-lfs.github.com/. Then run `git lfs install` (you only have to do this once).\u001b[0m\n",
            "\n",
            "You are about to create \u001b[1msai-prakash-c/mnist_vit\u001b[0m\n",
            "409 Client Error: Conflict for url: https://huggingface.co/api/repos/create (Request ID: Root=1-667646fc-22dc534d786e3a325d6e6b20;c7f23f73-62ce-4547-b1ee-624afe60d5af)\n",
            "\n",
            "You already created this model repo\n",
            "\u001b[1m\u001b[31m{\"error\":\"You already created this model repo\",\"url\":\"https://huggingface.co/sai-prakash-c/mnist_vit\"}\u001b[0m\n",
            "/Users/saip/Library/Python/3.9/lib/python/site-packages/urllib3/__init__.py:34: NotOpenSSLWarning: urllib3 v2 only supports OpenSSL 1.1.1+, currently the 'ssl' module is compiled with 'LibreSSL 2.8.3'. See: https://github.com/urllib3/urllib3/issues/3020\n",
            "  warnings.warn(\n",
            "usage: huggingface-cli <command> [<args>]\n",
            "huggingface-cli: error: invalid choice: 'model' (choose from 'env', 'login', 'whoami', 'logout', 'repo', 'upload', 'download', 'lfs-enable-largefiles', 'lfs-multipart-upload', 'scan-cache', 'delete-cache', 'tag')\n"
          ]
        }
      ],
      "source": [
        "!huggingface-cli login\n",
        "!huggingface-cli repo create mnist_vit -y"
      ]
    },
    {
      "cell_type": "code",
      "execution_count": null,
      "metadata": {},
      "outputs": [],
      "source": []
    }
  ],
  "metadata": {
    "colab": {
      "provenance": []
    },
    "kernelspec": {
      "display_name": "Python 3",
      "language": "python",
      "name": "python3"
    },
    "language_info": {
      "codemirror_mode": {
        "name": "ipython",
        "version": 3
      },
      "file_extension": ".py",
      "mimetype": "text/x-python",
      "name": "python",
      "nbconvert_exporter": "python",
      "pygments_lexer": "ipython3",
      "version": "3.9.6"
    },
    "vscode": {
      "interpreter": {
        "hash": "e7370f93d1d0cde622a1f8e1c04877d8463912d04d973331ad4851f04de6915a"
      }
    }
  },
  "nbformat": 4,
  "nbformat_minor": 0
}
